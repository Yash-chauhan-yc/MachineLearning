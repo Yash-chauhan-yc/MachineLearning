{
 "cells": [
  {
   "cell_type": "code",
   "execution_count": 8,
   "id": "92ec2e49",
   "metadata": {},
   "outputs": [
    {
     "name": "stdout",
     "output_type": "stream",
     "text": [
      "Hey Yash ! How are you\n"
     ]
    }
   ],
   "source": [
    "variable = \"How are you\"\n",
    "print(f\"Hey Yash ! {variable}\")\n",
    "\n",
    "# f helps to merge strings"
   ]
  },
  {
   "cell_type": "markdown",
   "id": "b3a06155",
   "metadata": {},
   "source": [
    "# Model Representation\n",
    "\n",
    "- NumPy, a popular library for scientific computing\n",
    "- tplotlib, a popular library for plotting data"
   ]
  },
  {
   "cell_type": "code",
   "execution_count": 10,
   "id": "6a926e55",
   "metadata": {},
   "outputs": [],
   "source": [
    "import numpy as np\n",
    "import matplotlib.pyplot as plt\n"
   ]
  },
  {
   "cell_type": "code",
   "execution_count": 13,
   "id": "1126b576",
   "metadata": {},
   "outputs": [
    {
     "name": "stdout",
     "output_type": "stream",
     "text": [
      "X_train :  [1. 2.] \n",
      "Y_train :  [300. 500.]\n"
     ]
    }
   ],
   "source": [
    "# X_train is the input variable(size in 1000 sq feet) \n",
    "# Y_train is output varialbe(price in 1000$)\n",
    "\n",
    "X_train = np.array([1.0,2.0])\n",
    "Y_train = np.array([300.0, 500.0])\n",
    "\n",
    "print(f\"X_train :  {X_train} \")\n",
    "print(f\"Y_train :  {Y_train}\")"
   ]
  },
  {
   "cell_type": "code",
   "execution_count": 15,
   "id": "a49f69e8",
   "metadata": {},
   "outputs": [
    {
     "name": "stdout",
     "output_type": "stream",
     "text": [
      "x_train.shape : (2,)\n",
      "Number of training examples : 2\n"
     ]
    }
   ],
   "source": [
    "# x_train.shape returns a python tuple with an entry for each dimension. x_train.shape[0] is the length of the array \n",
    "\n",
    "print(f\"x_train.shape : {X_train.shape}\")\n",
    "m = X_train.shape[0]\n",
    "print(f\"Number of training examples : {m}\")"
   ]
  },
  {
   "cell_type": "code",
   "execution_count": 17,
   "id": "b28a525f",
   "metadata": {},
   "outputs": [
    {
     "name": "stdout",
     "output_type": "stream",
     "text": [
      "number of training examples : 2\n"
     ]
    }
   ],
   "source": [
    "# one can also use python len\n",
    "\n",
    "m = len(X_train)\n",
    "print(f\"number of training examples : {m}\")"
   ]
  },
  {
   "cell_type": "code",
   "execution_count": 18,
   "id": "b7af48b0",
   "metadata": {},
   "outputs": [
    {
     "name": "stdout",
     "output_type": "stream",
     "text": [
      "X^0, y^0 = ((1.0, 300.0))\n"
     ]
    }
   ],
   "source": [
    "i = 0\n",
    "\n",
    "x_i = X_train[i]\n",
    "y_i = Y_train[i]\n",
    "\n",
    "print(f\"X^{i}, y^{i} = ({x_i, y_i})\")"
   ]
  },
  {
   "cell_type": "markdown",
   "id": "a2cf9a57",
   "metadata": {},
   "source": [
    "## Plotting a data\n",
    " You can plot these two points using the scatter() function in the matplotlib library, as shown in the cell below.\n",
    "\n",
    "- The function arguments marker and c show the points as red crosses (the default is blue dots)."
   ]
  },
  {
   "cell_type": "code",
   "execution_count": 19,
   "id": "2cb820b0",
   "metadata": {},
   "outputs": [
    {
     "data": {
      "image/png": "[encoded data removed]",
      "text/plain": [
       "<Figure size 432x288 with 1 Axes>"
      ]
     },
     "metadata": {
      "needs_background": "light"
     },
     "output_type": "display_data"
    }
   ],
   "source": [
    "#plot the data points\n",
    "plt.scatter(X_train, Y_train, marker ='x', c = 'r')\n",
    "#set the title\n",
    "plt.title(\"Housing prices\")\n",
    "#set the y-axis\n",
    "plt.ylabel(\"Price in (1000s of dollars)\")\n",
    "#set the x-axis\n",
    "plt.xlabel(\"size (1000sq ft)\")\n",
    "plt.show()\n"
   ]
  },
  {
   "cell_type": "markdown",
   "id": "92d4d434",
   "metadata": {},
   "source": [
    "## Model Function\n",
    " - the model function for linear regression (which is a function that maps from x to y) is represented as\n",
    "\n",
    "            𝑓𝑤,𝑏(𝑥(𝑖))=𝑤𝑥(𝑖)+𝑏"
   ]
  },
  {
   "cell_type": "code",
   "execution_count": 20,
   "id": "ea871c64",
   "metadata": {},
   "outputs": [
    {
     "name": "stdout",
     "output_type": "stream",
     "text": [
      "w : 500\n",
      "b : 500\n"
     ]
    }
   ],
   "source": [
    "w = 500\n",
    "b = 500 \n",
    "print(f\"w : {w}\")\n",
    "print(f\"b : {b}\")"
   ]
  },
  {
   "cell_type": "code",
   "execution_count": 23,
   "id": "a37c4724",
   "metadata": {},
   "outputs": [],
   "source": [
    "#np.zero(n) will return a one-dimensional numpy array with n entries\n",
    "\n",
    "def compute_model_output(x, w, b):\n",
    "    m = x.shape[0]\n",
    "    f_wb = np.zeros(m)\n",
    "    for i in range(m):\n",
    "        f_wb[i] = w * x[i] + b\n",
    "    \n",
    "    return f_wb\n",
    "        "
   ]
  },
  {
   "cell_type": "code",
   "execution_count": 24,
   "id": "519717e2",
   "metadata": {},
   "outputs": [
    {
     "data": {
      "image/png": "[encoded data removed]",
      "text/plain": [
       "<Figure size 432x288 with 1 Axes>"
      ]
     },
     "metadata": {
      "needs_background": "light"
     },
     "output_type": "display_data"
    }
   ],
   "source": [
    "tmp_f_wb = compute_model_output(X_train, w, b)\n",
    "\n",
    "#plot our prediction\n",
    "plt.plot(X_train, tmp_f_wb, c='b', label='our prediction')\n",
    "\n",
    "#plot the data points\n",
    "plt.scatter(X_train, Y_train, marker='x', c='r', label='Actual Values')\n",
    "\n",
    "#set the title\n",
    "plt.title('Housing Prices')\n",
    "\n",
    "#set the y-axis label\n",
    "plt.xlabel('Price in (1000 of dollar)')\n",
    "\n",
    "#set the x-axis label\n",
    "plt.xlabel('Size in square feet')\n",
    "\n",
    "plt.legend()\n",
    "plt.show()"
   ]
  },
  {
   "cell_type": "code",
   "execution_count": null,
   "id": "2807a406",
   "metadata": {},
   "outputs": [],
   "source": []
  }
 ],
 "metadata": {
  "kernelspec": {
   "display_name": "Python 3 (ipykernel)",
   "language": "python",
   "name": "python3"
  },
  "language_info": {
   "codemirror_mode": {
    "name": "ipython",
    "version": 3
   },
   "file_extension": ".py",
   "mimetype": "text/x-python",
   "name": "python",
   "nbconvert_exporter": "python",
   "pygments_lexer": "ipython3",
   "version": "3.9.12"
  }
 },
 "nbformat": 4,
 "nbformat_minor": 5
}
