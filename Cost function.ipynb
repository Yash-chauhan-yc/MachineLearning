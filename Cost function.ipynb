{
 "cells": [
  {
   "cell_type": "markdown",
   "id": "d36fc4fd",
   "metadata": {},
   "source": [
    "# Cost Function\n",
    "- squared error cost function"
   ]
  },
  {
   "cell_type": "code",
   "execution_count": 4,
   "id": "a864e2f7",
   "metadata": {},
   "outputs": [],
   "source": [
    "import numpy as np\n",
    "# %matplotlib widget\n",
    "import matplotlib.pyplot as plt\n",
    "# from lab_utils_uni import plt_intuition, plt_stationary, plt_update_onclick, soup_bowl"
   ]
  },
  {
   "cell_type": "code",
   "execution_count": 5,
   "id": "8003783a",
   "metadata": {},
   "outputs": [],
   "source": [
    "x_train = np.array([1.0, 2.0])\n",
    "y_train = np.array([300.0, 500.0])"
   ]
  },
  {
   "cell_type": "markdown",
   "id": "06b28e78",
   "metadata": {},
   "source": [
    "\n",
    "### Computing Cost\n",
    "The equation for cost with one variable is:\n",
    "      𝐽(𝑤,𝑏)=12𝑚∑𝑖=0𝑚−1(𝑓𝑤,𝑏(𝑥(𝑖))−𝑦(𝑖))2\n",
    "        where\n",
    "            𝑓𝑤,𝑏(𝑥(𝑖))=𝑤𝑥(𝑖)+𝑏"
   ]
  },
  {
   "cell_type": "code",
   "execution_count": 6,
   "id": "1b93255e",
   "metadata": {},
   "outputs": [],
   "source": [
    "def compute_cost(x, y, w, b):\n",
    "    m = x.shape[0]\n",
    "    cost_sum = 0\n",
    "    for i in range(m):\n",
    "        f_wb = w * x[i] + b\n",
    "        cost = (f_wb - y[i] ** 2)\n",
    "        cost_sum = cost_sum + cost\n",
    "        total_cost = (1/(2*m)) *cost_sum\n",
    "        \n",
    "    return total_cost"
   ]
  },
  {
   "cell_type": "code",
   "execution_count": null,
   "id": "f437ef8d",
   "metadata": {},
   "outputs": [],
   "source": []
  }
 ],
 "metadata": {
  "kernelspec": {
   "display_name": "Python 3 (ipykernel)",
   "language": "python",
   "name": "python3"
  },
  "language_info": {
   "codemirror_mode": {
    "name": "ipython",
    "version": 3
   },
   "file_extension": ".py",
   "mimetype": "text/x-python",
   "name": "python",
   "nbconvert_exporter": "python",
   "pygments_lexer": "ipython3",
   "version": "3.9.12"
  }
 },
 "nbformat": 4,
 "nbformat_minor": 5
}
